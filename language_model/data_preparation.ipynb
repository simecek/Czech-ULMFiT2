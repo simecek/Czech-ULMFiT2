{
 "cells": [
  {
   "cell_type": "code",
   "execution_count": 1,
   "metadata": {},
   "outputs": [
    {
     "data": {
      "text/plain": [
       "'Tesla P100-PCIE-16GB'"
      ]
     },
     "execution_count": 1,
     "metadata": {},
     "output_type": "execute_result"
    }
   ],
   "source": [
    "import torch\n",
    "torch.cuda.get_device_name(0)"
   ]
  },
  {
   "cell_type": "code",
   "execution_count": 7,
   "metadata": {},
   "outputs": [],
   "source": [
    "import re\n",
    "import random\n",
    "from fastai2.text.all import *\n",
    "from fastai2.basics import *\n",
    "from google_drive_downloader import GoogleDriveDownloader as gdd"
   ]
  },
  {
   "cell_type": "code",
   "execution_count": 4,
   "metadata": {},
   "outputs": [
    {
     "data": {
      "text/plain": [
       "Path('/home/jupyter/.fastai/cswiki')"
      ]
     },
     "execution_count": 4,
     "metadata": {},
     "output_type": "execute_result"
    }
   ],
   "source": [
    "bs=128\n",
    "data_path = Config.config_path\n",
    "\n",
    "lang = 'cs'\n",
    "name = f'{lang}wiki'\n",
    "path = data_path/name\n",
    "path.mkdir(exist_ok=True, parents=True)\n",
    "path"
   ]
  },
  {
   "cell_type": "code",
   "execution_count": 16,
   "metadata": {},
   "outputs": [],
   "source": [
    "# copy splitted wikipedia files\n",
    "!rm -rf {path/'docs'} cswiki_tmp\n",
    "\n",
    "gdd.download_file_from_google_drive(file_id='1JO8UJyL0Lqaq-V7uSQ0Nw4tqcCBRGQoR',\n",
    "                                    dest_path='./cswiki.zip')\n",
    "\n",
    "!unzip -q cswiki.zip -d \"./cswiki_tmp\"\n",
    "!mv \"./cswiki_data/root/.fastai/cswiki/docs\" \"{path}/docs/\"\n",
    "\n",
    "!rm -rf cswiki_tmp"
   ]
  },
  {
   "cell_type": "code",
   "execution_count": 13,
   "metadata": {},
   "outputs": [
    {
     "name": "stdout",
     "output_type": "stream",
     "text": [
      "Downloading 1r4LWbdJACU0Cj9cCulwSmS2AeZyvBWr4 into tmp/spm.model... Done.\n",
      "Downloading 1FHb8jH2ZG3IB4vbVLZSinRdQsFVLuyVk into tmp/spm.vocab... Done.\n",
      "spm.model  spm.vocab\n"
     ]
    }
   ],
   "source": [
    "# copy model and vocabulary\n",
    "!rm -rf tmp\n",
    "!mkdir tmp/\n",
    "\n",
    "gdd.download_file_from_google_drive(file_id='1r4LWbdJACU0Cj9cCulwSmS2AeZyvBWr4',\n",
    "                                    dest_path='tmp/spm.model')\n",
    "gdd.download_file_from_google_drive(file_id='1FHb8jH2ZG3IB4vbVLZSinRdQsFVLuyVk',\n",
    "                                    dest_path='tmp/spm.vocab')\n",
    "\n",
    "!ls tmp/"
   ]
  },
  {
   "cell_type": "code",
   "execution_count": 18,
   "metadata": {},
   "outputs": [
    {
     "data": {
      "text/plain": [
       "(118162, 106345, 11817)"
      ]
     },
     "execution_count": 18,
     "metadata": {},
     "output_type": "execute_result"
    }
   ],
   "source": [
    "dirpath = path/'docs'\n",
    "filenames = os.listdir(dirpath)\n",
    "N = len(filenames)\n",
    "\n",
    "chunks_train = random.sample(filenames, int(N / 10 * 9))\n",
    "chunks_valid = list(set(filenames) - set(chunks_train))\n",
    "\n",
    "N, len(chunks_train), len(chunks_valid)\n"
   ]
  },
  {
   "cell_type": "code",
   "execution_count": 20,
   "metadata": {},
   "outputs": [],
   "source": [
    "!rm -rf data\n",
    "!mkdir data\n",
    "!mkdir data/train\n",
    "!mkdir data/valid\n",
    "!mkdir data/train/1\n",
    "!mkdir data/valid/1"
   ]
  },
  {
   "cell_type": "code",
   "execution_count": 22,
   "metadata": {},
   "outputs": [],
   "source": [
    "for chunk in chunks_train:\n",
    "    shutil.copyfile(str(dirpath) + \"/\" + chunk, \"data/train/1/\" + chunk)\n",
    "for chunk in chunks_valid:\n",
    "    shutil.copyfile(str(dirpath) + \"/\" + chunk, \"data/valid/1/\" + chunk)"
   ]
  },
  {
   "cell_type": "code",
   "execution_count": 23,
   "metadata": {},
   "outputs": [],
   "source": [
    "sp = SentencePieceTokenizer(\n",
    "    lang='cs',\n",
    "    sp_model=Path('tmp/spm.model'),\n",
    "    max_vocab_sz=50000)\n",
    "\n",
    "tkn = Tokenizer(sp)"
   ]
  },
  {
   "cell_type": "code",
   "execution_count": 24,
   "metadata": {},
   "outputs": [
    {
     "data": {
      "text/plain": [
       "['▁xxbos',\n",
       " '▁xxmaj',\n",
       " '▁venku',\n",
       " '▁je',\n",
       " '▁pan',\n",
       " 'áček',\n",
       " ',',\n",
       " '▁s',\n",
       " 'lun',\n",
       " 'íčko',\n",
       " ',',\n",
       " '▁už',\n",
       " '▁asi',\n",
       " '▁neu',\n",
       " 'vid',\n",
       " 'í',\n",
       " '.']"
      ]
     },
     "execution_count": 24,
     "metadata": {},
     "output_type": "execute_result"
    }
   ],
   "source": [
    "tkn(\"Venku je panáček, sluníčko, už asi neuvidí.\")"
   ]
  }
 ],
 "metadata": {
  "environment": {
   "name": "pytorch-gpu.1-4.m50",
   "type": "gcloud",
   "uri": "gcr.io/deeplearning-platform-release/pytorch-gpu.1-4:m50"
  },
  "kernelspec": {
   "display_name": "Python 3",
   "language": "python",
   "name": "python3"
  },
  "language_info": {
   "codemirror_mode": {
    "name": "ipython",
    "version": 3
   },
   "file_extension": ".py",
   "mimetype": "text/x-python",
   "name": "python",
   "nbconvert_exporter": "python",
   "pygments_lexer": "ipython3",
   "version": "3.7.6"
  }
 },
 "nbformat": 4,
 "nbformat_minor": 4
}
